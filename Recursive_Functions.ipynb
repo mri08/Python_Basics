{
 "cells": [
  {
   "cell_type": "code",
   "execution_count": 2,
   "id": "e5133668",
   "metadata": {},
   "outputs": [
    {
     "name": "stdout",
     "output_type": "stream",
     "text": [
      "Factorial of 5 is 120\n"
     ]
    }
   ],
   "source": [
    "# print factorial of a number using recursion\n",
    "\n",
    "def factorial(num):\n",
    "    \n",
    "    return 1 if num ==1 else (num * factorial(num-1))\n",
    "\n",
    "num = 5\n",
    "\n",
    "print('Factorial of {0} is {1}'.format(num, factorial(num)))"
   ]
  },
  {
   "cell_type": "code",
   "execution_count": 3,
   "id": "162bcb48",
   "metadata": {},
   "outputs": [
    {
     "name": "stdout",
     "output_type": "stream",
     "text": [
      "fibonacci squence\n",
      "0\n",
      "1\n",
      "1\n",
      "2\n",
      "3\n",
      "5\n",
      "8\n",
      "13\n",
      "21\n",
      "34\n"
     ]
    }
   ],
   "source": [
    "# Fibonacci sequence up to n-th term using recursive function\n",
    "\n",
    "def fibo(num):\n",
    "    \n",
    "    return num if num <=1 else fibo(num-1) + fibo(num-2)\n",
    "\n",
    "nterms = 10\n",
    "print('fibonacci squence')\n",
    "for num in range(nterms):\n",
    "    print(fibo(num))"
   ]
  }
 ],
 "metadata": {
  "kernelspec": {
   "display_name": "Python 3",
   "language": "python",
   "name": "python3"
  },
  "language_info": {
   "codemirror_mode": {
    "name": "ipython",
    "version": 3
   },
   "file_extension": ".py",
   "mimetype": "text/x-python",
   "name": "python",
   "nbconvert_exporter": "python",
   "pygments_lexer": "ipython3",
   "version": "3.8.10"
  }
 },
 "nbformat": 4,
 "nbformat_minor": 5
}
