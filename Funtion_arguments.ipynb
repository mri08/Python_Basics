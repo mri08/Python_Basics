{
 "cells": [
  {
   "cell_type": "markdown",
   "id": "5d65da14",
   "metadata": {},
   "source": [
    "## Function Arguments"
   ]
  },
  {
   "cell_type": "code",
   "execution_count": 2,
   "id": "d610da95",
   "metadata": {},
   "outputs": [
    {
     "name": "stdout",
     "output_type": "stream",
     "text": [
      "Hello XYZ, welcome to the class\n"
     ]
    }
   ],
   "source": [
    "def greet(name, msg):\n",
    "    print('Hello {0}, {1}'.format(name, msg))\n",
    "    \n",
    "# call the function with arguments\n",
    "greet('XYZ', 'welcome to the class')"
   ]
  },
  {
   "cell_type": "code",
   "execution_count": 3,
   "id": "24508712",
   "metadata": {},
   "outputs": [
    {
     "ename": "TypeError",
     "evalue": "greet() missing 1 required positional argument: 'msg'",
     "output_type": "error",
     "traceback": [
      "\u001b[0;31m---------------------------------------------------------------------------\u001b[0m",
      "\u001b[0;31mTypeError\u001b[0m                                 Traceback (most recent call last)",
      "\u001b[0;32m<ipython-input-3-7ce90683d01b>\u001b[0m in \u001b[0;36m<module>\u001b[0;34m\u001b[0m\n\u001b[1;32m      1\u001b[0m \u001b[0;31m# if we pass one argument, we will get an error\u001b[0m\u001b[0;34m\u001b[0m\u001b[0;34m\u001b[0m\u001b[0;34m\u001b[0m\u001b[0m\n\u001b[1;32m      2\u001b[0m \u001b[0;34m\u001b[0m\u001b[0m\n\u001b[0;32m----> 3\u001b[0;31m \u001b[0mgreet\u001b[0m\u001b[0;34m(\u001b[0m\u001b[0;34m'XYZ'\u001b[0m\u001b[0;34m)\u001b[0m\u001b[0;34m\u001b[0m\u001b[0;34m\u001b[0m\u001b[0m\n\u001b[0m",
      "\u001b[0;31mTypeError\u001b[0m: greet() missing 1 required positional argument: 'msg'"
     ]
    }
   ],
   "source": [
    "# if we pass one argument, we will get an error\n",
    "\n",
    "greet('XYZ')"
   ]
  },
  {
   "cell_type": "code",
   "execution_count": null,
   "id": "c2e20a0f",
   "metadata": {},
   "outputs": [],
   "source": [
    "# the error above can be avoided if we give a default argument"
   ]
  },
  {
   "cell_type": "code",
   "execution_count": 6,
   "id": "9b436a26",
   "metadata": {},
   "outputs": [
    {
     "name": "stdout",
     "output_type": "stream",
     "text": [
      "Hello Tim, Welcome\n"
     ]
    }
   ],
   "source": [
    "def greet(name, msg='Welcome'):\n",
    "    print('Hello {0}, {1}'.format(name, msg))\n",
    "    \n",
    "# without msg argument\n",
    "greet('Tim')"
   ]
  },
  {
   "cell_type": "markdown",
   "id": "ef801d5f",
   "metadata": {},
   "source": [
    "all non-defalut arguments should be on the left of the default arguments"
   ]
  },
  {
   "cell_type": "markdown",
   "id": "bb69e18b",
   "metadata": {},
   "source": [
    "### Keyword Arguments"
   ]
  },
  {
   "cell_type": "markdown",
   "id": "ce1b2ae6",
   "metadata": {},
   "source": [
    "kwargs allows to pass keyworded variable length of arguments to a function."
   ]
  },
  {
   "cell_type": "code",
   "execution_count": 12,
   "id": "c1782d6b",
   "metadata": {},
   "outputs": [
    {
     "name": "stdout",
     "output_type": "stream",
     "text": [
      "Hello Tim, Welcome to the class\n"
     ]
    }
   ],
   "source": [
    "def greet(**kwargs):\n",
    "    \n",
    "    if kwargs:\n",
    "        print('Hello {0}, {1}'.format(kwargs['name'], kwargs['msg']))\n",
    "greet(name='Tim', msg='Welcome to the class')"
   ]
  },
  {
   "cell_type": "markdown",
   "id": "7dad8064",
   "metadata": {},
   "source": [
    "### Arbitrary Arguments"
   ]
  },
  {
   "cell_type": "code",
   "execution_count": 13,
   "id": "0571122a",
   "metadata": {},
   "outputs": [
    {
     "ename": "TypeError",
     "evalue": "greet() takes 0 positional arguments but 4 were given",
     "output_type": "error",
     "traceback": [
      "\u001b[0;31m---------------------------------------------------------------------------\u001b[0m",
      "\u001b[0;31mTypeError\u001b[0m                                 Traceback (most recent call last)",
      "\u001b[0;32m<ipython-input-13-c47c37988a73>\u001b[0m in \u001b[0;36m<module>\u001b[0;34m\u001b[0m\n\u001b[1;32m      8\u001b[0m         \u001b[0mprint\u001b[0m\u001b[0;34m(\u001b[0m\u001b[0mname\u001b[0m\u001b[0;34m)\u001b[0m\u001b[0;34m\u001b[0m\u001b[0;34m\u001b[0m\u001b[0m\n\u001b[1;32m      9\u001b[0m \u001b[0;34m\u001b[0m\u001b[0m\n\u001b[0;32m---> 10\u001b[0;31m \u001b[0mgreet\u001b[0m\u001b[0;34m(\u001b[0m\u001b[0;34m'A'\u001b[0m\u001b[0;34m,\u001b[0m \u001b[0;34m'B'\u001b[0m\u001b[0;34m,\u001b[0m \u001b[0;34m'C'\u001b[0m\u001b[0;34m,\u001b[0m \u001b[0;34m'D'\u001b[0m\u001b[0;34m)\u001b[0m\u001b[0;34m\u001b[0m\u001b[0;34m\u001b[0m\u001b[0m\n\u001b[0m",
      "\u001b[0;31mTypeError\u001b[0m: greet() takes 0 positional arguments but 4 were given"
     ]
    }
   ],
   "source": [
    "# used when we dont know the the number of arguments that will be passed into a function.\n",
    "\n",
    "def name(*names):\n",
    "    \n",
    "    print(names)\n",
    "    \n",
    "    for name in names:\n",
    "        print(name)\n",
    "        \n",
    "greet('Tim')"
   ]
  },
  {
   "cell_type": "code",
   "execution_count": null,
   "id": "c92e5da3",
   "metadata": {},
   "outputs": [],
   "source": []
  },
  {
   "cell_type": "code",
   "execution_count": null,
   "id": "3147ad26",
   "metadata": {},
   "outputs": [],
   "source": []
  },
  {
   "cell_type": "code",
   "execution_count": null,
   "id": "3e5c69e1",
   "metadata": {},
   "outputs": [],
   "source": []
  },
  {
   "cell_type": "code",
   "execution_count": null,
   "id": "b3683f7d",
   "metadata": {},
   "outputs": [],
   "source": []
  },
  {
   "cell_type": "code",
   "execution_count": null,
   "id": "3892218b",
   "metadata": {},
   "outputs": [],
   "source": []
  }
 ],
 "metadata": {
  "kernelspec": {
   "display_name": "Python 3",
   "language": "python",
   "name": "python3"
  },
  "language_info": {
   "codemirror_mode": {
    "name": "ipython",
    "version": 3
   },
   "file_extension": ".py",
   "mimetype": "text/x-python",
   "name": "python",
   "nbconvert_exporter": "python",
   "pygments_lexer": "ipython3",
   "version": "3.8.10"
  }
 },
 "nbformat": 4,
 "nbformat_minor": 5
}
