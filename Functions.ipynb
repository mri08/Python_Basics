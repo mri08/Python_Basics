{
 "cells": [
  {
   "cell_type": "markdown",
   "id": "26785907",
   "metadata": {},
   "source": [
    "Function Definition"
   ]
  },
  {
   "cell_type": "code",
   "execution_count": 6,
   "id": "4d005bb9",
   "metadata": {},
   "outputs": [],
   "source": [
    "def print_name(name):\n",
    "    '''\n",
    "    This function prints the name\n",
    "    \n",
    "    '''\n",
    "    print(\"Hello {}\".format(name))"
   ]
  },
  {
   "cell_type": "markdown",
   "id": "86cad5a5",
   "metadata": {},
   "source": [
    "Function Call"
   ]
  },
  {
   "cell_type": "code",
   "execution_count": 7,
   "id": "e5f070ed",
   "metadata": {},
   "outputs": [
    {
     "name": "stdout",
     "output_type": "stream",
     "text": [
      "Hello World\n"
     ]
    }
   ],
   "source": [
    "print_name('World')"
   ]
  },
  {
   "cell_type": "code",
   "execution_count": 8,
   "id": "27174562",
   "metadata": {},
   "outputs": [
    {
     "name": "stdout",
     "output_type": "stream",
     "text": [
      "\n",
      "    This function prints the name\n",
      "    \n",
      "    \n"
     ]
    }
   ],
   "source": [
    "# The first string after the function header is called the docstring\n",
    "\n",
    "print(print_name.__doc__)    # print doc string of the function"
   ]
  },
  {
   "cell_type": "markdown",
   "id": "f31ce255",
   "metadata": {},
   "source": [
    "Return statement\n",
    "- Used to exit a function and go back to the place from where it was called"
   ]
  },
  {
   "cell_type": "code",
   "execution_count": 9,
   "id": "0359c85a",
   "metadata": {},
   "outputs": [],
   "source": [
    "def get_sum(lst):\n",
    "    \"\"\"\n",
    "    Return the sum of all the elements in a list\n",
    "    \"\"\"\n",
    "    _sum = 0\n",
    "    \n",
    "    for num in lst:\n",
    "        _sum += num\n",
    "    return _sum"
   ]
  },
  {
   "cell_type": "code",
   "execution_count": 10,
   "id": "308b02cf",
   "metadata": {},
   "outputs": [
    {
     "name": "stdout",
     "output_type": "stream",
     "text": [
      "20\n"
     ]
    }
   ],
   "source": [
    "s = get_sum([2,4,6,8])\n",
    "print(s)"
   ]
  },
  {
   "cell_type": "markdown",
   "id": "47b1b125",
   "metadata": {},
   "source": [
    "Global and Local Variables"
   ]
  },
  {
   "cell_type": "code",
   "execution_count": 12,
   "id": "2f653ad6",
   "metadata": {},
   "outputs": [
    {
     "name": "stdout",
     "output_type": "stream",
     "text": [
      "This is local variable\n",
      "This is global variable\n",
      "This is global variable\n"
     ]
    },
    {
     "ename": "NameError",
     "evalue": "name 'local_var' is not defined",
     "output_type": "error",
     "traceback": [
      "\u001b[0;31m---------------------------------------------------------------------------\u001b[0m",
      "\u001b[0;31mNameError\u001b[0m                                 Traceback (most recent call last)",
      "\u001b[0;32m<ipython-input-12-ef78e90c937b>\u001b[0m in \u001b[0;36m<module>\u001b[0;34m\u001b[0m\n\u001b[1;32m     16\u001b[0m \u001b[0;34m\u001b[0m\u001b[0m\n\u001b[1;32m     17\u001b[0m \u001b[0;31m# print local variable\u001b[0m\u001b[0;34m\u001b[0m\u001b[0;34m\u001b[0m\u001b[0;34m\u001b[0m\u001b[0m\n\u001b[0;32m---> 18\u001b[0;31m \u001b[0mprint\u001b[0m\u001b[0;34m(\u001b[0m\u001b[0mlocal_var\u001b[0m\u001b[0;34m)\u001b[0m\u001b[0;34m\u001b[0m\u001b[0;34m\u001b[0m\u001b[0m\n\u001b[0m\u001b[1;32m     19\u001b[0m \u001b[0;34m\u001b[0m\u001b[0m\n",
      "\u001b[0;31mNameError\u001b[0m: name 'local_var' is not defined"
     ]
    }
   ],
   "source": [
    "global_var = 'This is global variable'\n",
    "\n",
    "def test_var():\n",
    "    local_var = 'This is local variable'\n",
    "    \n",
    "    print(local_var)\n",
    "    print(global_var)\n",
    "\n",
    "    \n",
    "# calling function   \n",
    "test_var()\n",
    "    \n",
    "    \n",
    "# print global variable\n",
    "print(global_var)\n",
    "\n",
    "# print local variable\n",
    "print(local_var)\n",
    "\n"
   ]
  },
  {
   "cell_type": "markdown",
   "id": "e8b6cbe3",
   "metadata": {},
   "source": [
    "# HCF of two numbers"
   ]
  },
  {
   "cell_type": "code",
   "execution_count": 13,
   "id": "38fa427f",
   "metadata": {},
   "outputs": [
    {
     "name": "stdout",
     "output_type": "stream",
     "text": [
      "HCF of 12 and 20 is 4\n"
     ]
    }
   ],
   "source": [
    "def calHCF(a, b):\n",
    "    \n",
    "    smaller = b if a>b else a\n",
    "    \n",
    "    hcf = 1\n",
    "    \n",
    "    for i in range(1, smaller+1):\n",
    "        if (a%i == 0) and (b%i == 0):\n",
    "            hcf = i\n",
    "    return hcf\n",
    "\n",
    "\n",
    "num1 = 12\n",
    "num2 = 20\n",
    "\n",
    "print(\"HCF of {0} and {1} is {2}\".format(num1, num2, calHCF(num1, num2)))"
   ]
  },
  {
   "cell_type": "code",
   "execution_count": null,
   "id": "323edc73",
   "metadata": {},
   "outputs": [],
   "source": []
  },
  {
   "cell_type": "code",
   "execution_count": null,
   "id": "b5daa5a2",
   "metadata": {},
   "outputs": [],
   "source": []
  }
 ],
 "metadata": {
  "kernelspec": {
   "display_name": "Python 3",
   "language": "python",
   "name": "python3"
  },
  "language_info": {
   "codemirror_mode": {
    "name": "ipython",
    "version": 3
   },
   "file_extension": ".py",
   "mimetype": "text/x-python",
   "name": "python",
   "nbconvert_exporter": "python",
   "pygments_lexer": "ipython3",
   "version": "3.8.10"
  }
 },
 "nbformat": 4,
 "nbformat_minor": 5
}
