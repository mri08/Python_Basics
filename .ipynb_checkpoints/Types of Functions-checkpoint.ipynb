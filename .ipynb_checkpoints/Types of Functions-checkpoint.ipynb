{
 "cells": [
  {
   "cell_type": "markdown",
   "id": "b9dc1f49",
   "metadata": {},
   "source": [
    "## Types of Functions"
   ]
  },
  {
   "cell_type": "markdown",
   "id": "059f9d6d",
   "metadata": {},
   "source": [
    "1. Built-in Function\n",
    "2. User-defined Function"
   ]
  },
  {
   "cell_type": "markdown",
   "id": "408616a0",
   "metadata": {},
   "source": [
    "### Built-in Functions"
   ]
  },
  {
   "cell_type": "code",
   "execution_count": 1,
   "id": "e4aa45f1",
   "metadata": {},
   "outputs": [
    {
     "name": "stdout",
     "output_type": "stream",
     "text": [
      "15\n"
     ]
    }
   ],
   "source": [
    "# abs()\n",
    "# for finding the absolute value\n",
    "\n",
    "temp = -15\n",
    "\n",
    "print(abs(temp))"
   ]
  },
  {
   "cell_type": "code",
   "execution_count": 7,
   "id": "a5a3b835",
   "metadata": {},
   "outputs": [
    {
     "name": "stdout",
     "output_type": "stream",
     "text": [
      "True\n",
      "False\n",
      "False\n",
      "True\n"
     ]
    }
   ],
   "source": [
    "# all()\n",
    "# returns True if all elements in an iterable are true else False\n",
    "\n",
    "nos = [1,2,3,4]\n",
    "print(all(nos))\n",
    "\n",
    "lst = [False, 3, 7]\n",
    "print(all(lst))\n",
    "\n",
    "lst1 = [0,2,4,6]\n",
    "print(all(lst1))\n",
    "\n",
    "empty_lst = []\n",
    "print(all(empty_lst))    # empty list returns True"
   ]
  },
  {
   "cell_type": "code",
   "execution_count": 8,
   "id": "a72c02bf",
   "metadata": {},
   "outputs": [
    {
     "name": "stdout",
     "output_type": "stream",
     "text": [
      "['__add__', '__class__', '__contains__', '__delattr__', '__dir__', '__doc__', '__eq__', '__format__', '__ge__', '__getattribute__', '__getitem__', '__getnewargs__', '__gt__', '__hash__', '__init__', '__init_subclass__', '__iter__', '__le__', '__len__', '__lt__', '__mul__', '__ne__', '__new__', '__reduce__', '__reduce_ex__', '__repr__', '__rmul__', '__setattr__', '__sizeof__', '__str__', '__subclasshook__', 'count', 'index']\n"
     ]
    }
   ],
   "source": [
    "# dir()\n",
    "# returns list of valid attributes of the object\n",
    "\n",
    "nos = ()\n",
    "print(dir(nos))"
   ]
  },
  {
   "cell_type": "code",
   "execution_count": 9,
   "id": "5cc798a0",
   "metadata": {},
   "outputs": [
    {
     "name": "stdout",
     "output_type": "stream",
     "text": [
      "(2, 1)\n"
     ]
    }
   ],
   "source": [
    "# divmod()\n",
    "# prints the quotient and remainder as a tuple\n",
    "\n",
    "print(divmod(9,4))"
   ]
  },
  {
   "cell_type": "markdown",
   "id": "a8c75835",
   "metadata": {},
   "source": [
    "### Enumerate"
   ]
  },
  {
   "cell_type": "markdown",
   "id": "86f1bbdb",
   "metadata": {},
   "source": [
    "Syntax: enumerate(iterable, start = 0)"
   ]
  },
  {
   "cell_type": "code",
   "execution_count": 11,
   "id": "6d961bfc",
   "metadata": {},
   "outputs": [
    {
     "name": "stdout",
     "output_type": "stream",
     "text": [
      "index 0 has value 2\n",
      "index 1 has value 4\n",
      "index 2 has value 6\n",
      "index 3 has value 8\n"
     ]
    }
   ],
   "source": [
    "# Enumerate\n",
    "# adds counter to an iterable and returns it\n",
    "\n",
    "nos = [2,4,6,8]\n",
    "for index, num in enumerate(nos, 0):\n",
    "    print(\"index {0} has value {1}\".format(index, num))"
   ]
  },
  {
   "cell_type": "code",
   "execution_count": 12,
   "id": "bbedb043",
   "metadata": {},
   "outputs": [
    {
     "name": "stdout",
     "output_type": "stream",
     "text": [
      "index 0 has value 2\n",
      "index 1 has value 4\n",
      "index 2 has value 6\n",
      "index 3 has value 8\n"
     ]
    }
   ],
   "source": [
    "nos = (2,4,6,8)\n",
    "for index, num in enumerate(nos, 0):\n",
    "    print(\"index {0} has value {1}\".format(index, num))"
   ]
  },
  {
   "cell_type": "code",
   "execution_count": 46,
   "id": "4fc2dd3f",
   "metadata": {},
   "outputs": [
    {
     "name": "stdout",
     "output_type": "stream",
     "text": [
      "index 55 has value 2\n",
      "index 56 has value 4\n",
      "index 57 has value 6\n",
      "index 58 has value 8\n"
     ]
    }
   ],
   "source": [
    "nos = (2,4,6,8)\n",
    "for index, num in enumerate(nos, 55):    # second argument of enumerate reflects from where we want to start the counter \n",
    "    print(\"index {0} has value {1}\".format(index, num))"
   ]
  },
  {
   "cell_type": "code",
   "execution_count": null,
   "id": "3707efd4",
   "metadata": {},
   "outputs": [],
   "source": []
  },
  {
   "cell_type": "code",
   "execution_count": 34,
   "id": "d4a667b5",
   "metadata": {},
   "outputs": [
    {
     "name": "stdout",
     "output_type": "stream",
     "text": [
      "index 0 has value J\n",
      "index 1 has value a\n",
      "index 2 has value m\n",
      "index 3 has value e\n",
      "index 4 has value s\n"
     ]
    }
   ],
   "source": [
    "name = \"James\"\n",
    "for index, nm in enumerate(name, 0):\n",
    "    print(\"index {0} has value {1}\".format(index, nm))"
   ]
  },
  {
   "cell_type": "code",
   "execution_count": 35,
   "id": "d94ea995",
   "metadata": {},
   "outputs": [
    {
     "name": "stdout",
     "output_type": "stream",
     "text": [
      "index 0 has value e\n",
      "index 1 has value m\n",
      "index 2 has value j\n",
      "index 3 has value s\n",
      "index 4 has value a\n"
     ]
    }
   ],
   "source": [
    "name = {'j','a','m','e','s'}\n",
    "for index, nm in enumerate(name, 0):\n",
    "    print(\"index {0} has value {1}\".format(index, nm))"
   ]
  },
  {
   "cell_type": "code",
   "execution_count": 44,
   "id": "2c33af24",
   "metadata": {},
   "outputs": [
    {
     "name": "stdout",
     "output_type": "stream",
     "text": [
      "index 0 has key name\n",
      "index 1 has key age\n",
      "index 2 has key job\n"
     ]
    }
   ],
   "source": [
    "bio = {'name': 'James', 'age': 45, 'job':'Detective'}\n",
    "for index, nm in enumerate(bio):\n",
    "    print(\"index {0} has key {1}\".format(index, nm))   # only enumerates through the dict keys"
   ]
  },
  {
   "cell_type": "code",
   "execution_count": 43,
   "id": "f69884fe",
   "metadata": {},
   "outputs": [
    {
     "name": "stdout",
     "output_type": "stream",
     "text": [
      "index 0 has value James\n",
      "index 1 has value 45\n",
      "index 2 has value Detective\n"
     ]
    }
   ],
   "source": [
    "bio = {'name': 'James', 'age': 45, 'job':'Detective'}\n",
    "for index, nm in enumerate(bio.values()):\n",
    "    print(\"index {0} has value {1}\".format(index, nm)) "
   ]
  },
  {
   "cell_type": "code",
   "execution_count": 42,
   "id": "1e5393f7",
   "metadata": {},
   "outputs": [
    {
     "name": "stdout",
     "output_type": "stream",
     "text": [
      "index 0 has key name and value James\n",
      "index 1 has key age and value 45\n",
      "index 2 has key job and value Detective\n"
     ]
    }
   ],
   "source": [
    "bio = {'name': 'James', 'age': 45, 'job':'Detective'}\n",
    "for index, (i,nm) in enumerate(bio.items()):\n",
    "    print(\"index {0} has key {1} and value {2}\".format(index,i, nm))    # enumerates through the key value pair"
   ]
  },
  {
   "cell_type": "code",
   "execution_count": 45,
   "id": "a0f83bd0",
   "metadata": {},
   "outputs": [
    {
     "name": "stdout",
     "output_type": "stream",
     "text": [
      "key name has value James\n",
      "key age has value 45\n",
      "key job has value Detective\n"
     ]
    }
   ],
   "source": [
    "# without using enumerate\n",
    "\n",
    "bio = {'name': 'James', 'age': 45, 'job':'Detective'}\n",
    "for key, value in bio.items():\n",
    "    print(\"key {0} has value {1}\".format(key, value)) "
   ]
  },
  {
   "cell_type": "markdown",
   "id": "ce93f42a",
   "metadata": {},
   "source": [
    "### filter()"
   ]
  },
  {
   "cell_type": "markdown",
   "id": "361e70ab",
   "metadata": {},
   "source": [
    "syntax: filter(function, iterable)"
   ]
  },
  {
   "cell_type": "code",
   "execution_count": 49,
   "id": "8e92acc6",
   "metadata": {},
   "outputs": [
    {
     "name": "stdout",
     "output_type": "stream",
     "text": [
      "[-5, -4, -3, -2, -1, 0, 1, 2, 3]\n",
      "[1, 2, 3]\n"
     ]
    }
   ],
   "source": [
    "def pos_num(num):\n",
    "    if num>0:\n",
    "        return num\n",
    "    \n",
    "num_list = range(-5, 4)\n",
    "print(list(num_list))\n",
    "\n",
    "pos_num_lst = list(filter(pos_num, num_list))\n",
    "print(pos_num_lst)"
   ]
  },
  {
   "cell_type": "markdown",
   "id": "14663c14",
   "metadata": {},
   "source": [
    "### isinstance()"
   ]
  },
  {
   "cell_type": "markdown",
   "id": "a2c84b50",
   "metadata": {},
   "source": [
    "checks if the object (1st argument) is an instance or subclass of classinfo class (2nd argument)."
   ]
  },
  {
   "cell_type": "markdown",
   "id": "43338cc8",
   "metadata": {},
   "source": [
    "syntax: isinstance(object, classinfo)"
   ]
  },
  {
   "cell_type": "code",
   "execution_count": 50,
   "id": "19e7d0c7",
   "metadata": {},
   "outputs": [
    {
     "name": "stdout",
     "output_type": "stream",
     "text": [
      "True\n",
      "False\n"
     ]
    }
   ],
   "source": [
    "lst = [1,2,3,4]\n",
    "print(isinstance(lst, list))\n",
    "\n",
    "# try with other datatypes\n",
    "\n",
    "print(isinstance(lst, tuple))"
   ]
  },
  {
   "cell_type": "markdown",
   "id": "995e5474",
   "metadata": {},
   "source": [
    "### map()\n",
    "\n",
    "syntax: map(function_to_apply, list_of_inputs)"
   ]
  },
  {
   "cell_type": "code",
   "execution_count": 51,
   "id": "535f603b",
   "metadata": {},
   "outputs": [
    {
     "name": "stdout",
     "output_type": "stream",
     "text": [
      "[4, 16, 36, 64]\n"
     ]
    }
   ],
   "source": [
    "nos = [2,4,6,8]\n",
    "\n",
    "def square(num):\n",
    "    return num ** 2\n",
    "\n",
    "squared = list(map(square, nos))\n",
    "print(squared)"
   ]
  },
  {
   "cell_type": "markdown",
   "id": "890495d7",
   "metadata": {},
   "source": [
    "### reduce()"
   ]
  },
  {
   "cell_type": "markdown",
   "id": "b4bfdcc5",
   "metadata": {},
   "source": [
    "- reduce() function is for performing some computation on a list and returning the result.\n",
    "- It applies a rolling computation to sequential pairs of values in a list."
   ]
  },
  {
   "cell_type": "code",
   "execution_count": 55,
   "id": "4e847324",
   "metadata": {},
   "outputs": [
    {
     "name": "stdout",
     "output_type": "stream",
     "text": [
      "24\n"
     ]
    }
   ],
   "source": [
    "from functools import reduce\n",
    "\n",
    "nos = [1,2,3,4]\n",
    "\n",
    "def mul(x,y):\n",
    "    return x*y\n",
    "\n",
    "product = reduce(mul, nos)\n",
    "print(product)"
   ]
  },
  {
   "cell_type": "code",
   "execution_count": 56,
   "id": "b7c3d3d7",
   "metadata": {},
   "outputs": [
    {
     "name": "stdout",
     "output_type": "stream",
     "text": [
      "10\n"
     ]
    }
   ],
   "source": [
    "from functools import reduce\n",
    "\n",
    "nos = [1,2,3,4]\n",
    "\n",
    "def add(x,y):\n",
    "    return x+y\n",
    "\n",
    "addn = reduce(add, nos)\n",
    "print(addn)"
   ]
  },
  {
   "cell_type": "code",
   "execution_count": null,
   "id": "ae0d576e",
   "metadata": {},
   "outputs": [],
   "source": []
  }
 ],
 "metadata": {
  "kernelspec": {
   "display_name": "Python 3",
   "language": "python",
   "name": "python3"
  },
  "language_info": {
   "codemirror_mode": {
    "name": "ipython",
    "version": 3
   },
   "file_extension": ".py",
   "mimetype": "text/x-python",
   "name": "python",
   "nbconvert_exporter": "python",
   "pygments_lexer": "ipython3",
   "version": "3.8.10"
  }
 },
 "nbformat": 4,
 "nbformat_minor": 5
}
