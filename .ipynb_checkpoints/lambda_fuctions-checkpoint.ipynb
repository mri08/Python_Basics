{
 "cells": [
  {
   "cell_type": "markdown",
   "id": "a681e3d1",
   "metadata": {},
   "source": [
    "syntax:\n",
    "\n",
    "\n",
    "    lambda arguments: expression"
   ]
  },
  {
   "cell_type": "code",
   "execution_count": 1,
   "id": "56464cb0",
   "metadata": {},
   "outputs": [
    {
     "name": "stdout",
     "output_type": "stream",
     "text": [
      "10\n"
     ]
    }
   ],
   "source": [
    "double = lambda x: x*2\n",
    "# here double is the function name\n",
    "# x*2 is the operation to be performed\n",
    "# x is the input\n",
    "\n",
    "print(double(5))"
   ]
  },
  {
   "cell_type": "code",
   "execution_count": 2,
   "id": "04f8635a",
   "metadata": {},
   "outputs": [
    {
     "name": "stdout",
     "output_type": "stream",
     "text": [
      "[2, 4]\n"
     ]
    }
   ],
   "source": [
    "# lambda use with filter()\n",
    "\n",
    "lst = [1,2,3,4,5]\n",
    "even_lst = list(filter(lambda x: (x%2 == 0), lst))\n",
    "print(even_lst)"
   ]
  },
  {
   "cell_type": "code",
   "execution_count": 3,
   "id": "685653a4",
   "metadata": {},
   "outputs": [
    {
     "name": "stdout",
     "output_type": "stream",
     "text": [
      "[4, 16, 36, 64]\n"
     ]
    }
   ],
   "source": [
    "# lambda use with map()\n",
    "\n",
    "lst = [2,4,6,8]\n",
    "new_lst = list(map(lambda x: x**2, lst))\n",
    "print(new_lst)"
   ]
  },
  {
   "cell_type": "code",
   "execution_count": 6,
   "id": "9cd52d37",
   "metadata": {},
   "outputs": [
    {
     "name": "stdout",
     "output_type": "stream",
     "text": [
      "120\n"
     ]
    }
   ],
   "source": [
    "# lambda use with reduce()\n",
    "\n",
    "from functools import reduce\n",
    "\n",
    "lst = [1,2,3,4,5]\n",
    "product = reduce(lambda x,y: x*y, lst)\n",
    "print(product)"
   ]
  },
  {
   "cell_type": "code",
   "execution_count": 11,
   "id": "0df7f3c2",
   "metadata": {},
   "outputs": [
    {
     "name": "stdout",
     "output_type": "stream",
     "text": [
      "4\n"
     ]
    }
   ],
   "source": [
    "# here we are defining a lambda and  calling it immediately by passing x and y as argument \n",
    "x = 2\n",
    "y = 2\n",
    "(lambda x,y: print(x+y))(x,y)"
   ]
  }
 ],
 "metadata": {
  "kernelspec": {
   "display_name": "Python 3",
   "language": "python",
   "name": "python3"
  },
  "language_info": {
   "codemirror_mode": {
    "name": "ipython",
    "version": 3
   },
   "file_extension": ".py",
   "mimetype": "text/x-python",
   "name": "python",
   "nbconvert_exporter": "python",
   "pygments_lexer": "ipython3",
   "version": "3.8.10"
  }
 },
 "nbformat": 4,
 "nbformat_minor": 5
}
